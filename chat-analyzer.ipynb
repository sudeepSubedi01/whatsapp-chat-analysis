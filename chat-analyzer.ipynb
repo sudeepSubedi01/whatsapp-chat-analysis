{
 "cells": [
  {
   "cell_type": "code",
   "execution_count": 72,
   "metadata": {},
   "outputs": [],
   "source": [
    "import pandas as pd\n",
    "import numpy as np\n",
    "import re"
   ]
  },
  {
   "cell_type": "code",
   "execution_count": 73,
   "metadata": {},
   "outputs": [],
   "source": [
    "f = open('chat2.txt', 'r' , encoding='utf-8')\n",
    "data = f.read()"
   ]
  },
  {
   "cell_type": "code",
   "execution_count": 74,
   "metadata": {},
   "outputs": [
    {
     "name": "stdout",
     "output_type": "stream",
     "text": [
      "<class 'str'>\n"
     ]
    }
   ],
   "source": [
    "print(type(data))"
   ]
  },
  {
   "cell_type": "code",
   "execution_count": 75,
   "metadata": {},
   "outputs": [
    {
     "name": "stdout",
     "output_type": "stream",
     "text": [
      "16/01/2024, 10:28 - Manish Basnet Digital Pathshala created group \"dpLaravel Free ✅\"\n",
      "16/01/2024, 10:28 - You were added\n",
      "03/02/2024, 19:02 - +977 984-7092985: class ko recordings kaile samma accessible hunxa?\n",
      "03/02/2024, 19:25 - Manish Basnet Digital Pathshala: Waiting for this message\n",
      "03/02/2024, 20:28 - +977 986-6807363: Waiting for this message\n",
      "03/02/2024, 20:28 - +977 986-6807363: Waiting for this message\n",
      "03/02/2024, 20:28 - +977 986-6807363: Waiting for this message\n",
      "03/02/2024, 20:34 - +977 984-7092985: Laravel\n",
      "04/02/2024, 12:52 - Manish Basnet Digital Pathshala: Waiting for this message\n",
      "16/02/2024, 20:32 - +977 986-7218297 joined from the community\n",
      "16/02/2024, 20:32 - +977 984-5672751 joined from the community\n",
      "16/02/2024, 20:32 - +977 984-6081820 joined from the community\n",
      "16/02/2024, 20:32 - +977 981-5752822 joined from the community\n",
      "16/02/2024, 20:32 - +977 986-2931608 joined from the community\n",
      "16/02/2024, 20:32 - +977 985-5019112 joined from the community\n",
      "01/03/2024, 04:43 - +977 984-6977465 changed to +44 7824 845906\n",
      "01/03/2024, 15:54 - +977 980-7314413 changed to +977 976-7776999\n",
      "03/03/2024, 18:37 - +977 986-1362710 joined from the community\n",
      "03/03/2024, 18:37 - +977 984-0052249 joined from the community\n",
      "03/03/2024, 18:37 - +977 984-4634344 joined from the community\n",
      "03/03/2024, 18:37 - +977 976-5654864 joined from the community\n",
      "03/03/2024, 18:37 - +977 980-9245534 joined from the community\n",
      "03/03/2024, 18:37 - +977 981-6797402 joined from the community\n",
      "03/03/2024, 18:37 - +977 974-5923376 joined from the community\n",
      "03/03/2024, 18:37 - +977 986-9414276 joined from the community\n",
      "03/03/2024, 18:31 - Manish Basnet Digital Pathshala: Anyone who is interested for laravel 30 days at rs 999, message me\n",
      "03/03/2024, 18:53 - +977 984-5626596: Yes\n",
      "03/03/2024, 18:54 - Manish Basnet Digital Pathshala: <Media omitted>\n",
      "03/03/2024, 19:02 - +977 984-5626596: Kaila bata hunxa class\n",
      "03/03/2024, 19:03 - Manish Basnet Digital Pathshala: April 1\n",
      "03/03/2024, 19:05 - +977 984-5626596: Time?\n",
      "03/03/2024, 19:09 - Manish Basnet Digital Pathshala: 20:30 onwards\n",
      "03/03/2024, 19:24 - +977 984-5626596: Lk\n",
      "03/03/2024, 19:24 - +977 984-5626596: Ok\n",
      "05/03/2024, 07:53 - +977 986-0597070: Syllabus?\n",
      "05/03/2024, 11:01 - Manish Basnet Digital Pathshala: <Media omitted>\n",
      "05/03/2024, 12:45 - +977 981-3487744: mentor, time period, start date, start time....?\n",
      "06/03/2024, 09:14 - Manish Basnet Digital Pathshala: <Media omitted>\n",
      "06/03/2024, 09:14 - Manish Basnet Digital Pathshala: <Media omitted>\n",
      "07/03/2024, 08:59 - Manish Basnet Digital Pathshala: https://www.facebook.com/story.php?story_fbid=261104370379835&id=100094408225878&mibextid=WC7FNe\n",
      "07/03/2024, 08:59 - Manish Basnet Digital Pathshala pinned a message\n",
      "11/03/2024, 12:41 - +977 984-0539716: How much for react js course?\n",
      "11/03/2024, 12:42 - Manish Basnet Digital Pathshala: <Media omitted>\n",
      "11/03/2024, 12:48 - +977 984-0539716: Kaile samma pay garne ho ?\n",
      "11/03/2024, 12:50 - +977 984-0539716: Ani class kahile bata ?\n",
      "11/03/2024, 12:50 - Manish Basnet Digital Pathshala: <Media omitted>\n",
      "11/03/2024, 12:51 - +977 984-0539716: Qr pathaunu\n",
      "11/03/2024, 12:53 - Manish Basnet Digital Pathshala: <Media omitted>\n",
      "11/03/2024, 12:53 - Manish Basnet Digital Pathshala: <Media omitted>\n",
      "12/03/2024, 11:26 - Manish Basnet Digital Pathshala: Hi there,\n",
      "Hope you're doing well! 😊\n",
      "Just a follow-up message! Before fully trusting us, we believe it's important for you to see our past session class. This is our Day 1 class of past session covering ReactJS basics, including how websites work, HTTP status codes, and HTTP verbs.\n",
      "Demo[React] : https://bit.ly/4a7sK1o\n",
      "In addition to our ReactJS course, we have an upcoming Laravel course that you might be interested in.\n",
      "More Details : https://bit.ly/3IA2d0K\n",
      "Demo[Laravel] : https://bit.ly/3Vf5s5j\n",
      "Feel free to watch it whenever you have a moment. I'm confident you'll find it insightful and perhaps it'll spark some interest in our React30 days workshop or Laravel30 days Workshop!\n",
      "Let me know if you have any questions or if there's anything else I can assist you with.\n",
      "Best regards,\n",
      "Manish Basnet\n",
      "Founder at Digital Pathshala\n",
      "12/03/2024, 16:02 - +977 974-5923376: react ko kati din pugo course start vako\n",
      "12/03/2024, 16:03 - Manish Basnet Digital Pathshala: past class ko video ho\n",
      "12/03/2024, 16:03 - Manish Basnet Digital Pathshala: react ko seats full huna aateko xa upcoming class from mar 27 ko\n",
      "12/03/2024, 16:03 - Manish Basnet Digital Pathshala: interested hunuhuncha vaney dm me\n",
      "12/03/2024, 16:04 - +977 974-5923376: 27 March bata balla start huni ho sir\n",
      "12/03/2024, 16:04 - +977 974-5923376: React\n",
      "12/03/2024, 16:04 - Manish Basnet Digital Pathshala: um\n",
      "12/03/2024, 16:04 - +977 982-4036778: Maan thiyo but mero event suru hunale na vyaune vaye\n",
      "12/03/2024, 16:04 - Manish Basnet Digital Pathshala: ok no worries\n",
      "12/03/2024, 16:05 - Manish Basnet Digital Pathshala: paxi recording lida ni vayo\n",
      "12/03/2024, 16:06 - +977 974-5923376: 3 seat khali xa ajhai .?\n",
      "12/03/2024, 16:06 - Manish Basnet Digital Pathshala: um\n",
      "12/03/2024, 16:06 - Manish Basnet Digital Pathshala: hurry up\n",
      "12/03/2024, 16:13 - +977 974-5923376: Sir React ko syllabus dinu na ek chati\n",
      "12/03/2024, 16:14 - Manish Basnet Digital Pathshala: https://class.digitalpathshalanepal.com/syllabus/react30.pdf\n",
      "12/03/2024, 16:15 - +977 974-5923376: Project 2 ota ho .?\n",
      "12/03/2024, 16:16 - Manish Basnet Digital Pathshala: project 3\n"
     ]
    }
   ],
   "source": [
    "print(data)"
   ]
  },
  {
   "cell_type": "markdown",
   "metadata": {},
   "source": [
    "# Separating date and message"
   ]
  },
  {
   "cell_type": "code",
   "execution_count": 76,
   "metadata": {},
   "outputs": [],
   "source": [
    "# pattern = \"\\d{1,2}\\/\\d{1,2}\\/\\d{2,4},\\s\\d:\\d{2}\\s-\\s\"\n",
    "pattern = r\"\\d{1,2}/\\d{1,2}/\\d{2,4},\\s\\d{1,2}:\\d{2}\\s-\\s\""
   ]
  },
  {
   "cell_type": "code",
   "execution_count": 77,
   "metadata": {},
   "outputs": [
    {
     "data": {
      "text/plain": [
       "['Manish Basnet Digital Pathshala created group \"dpLaravel Free ✅\"\\n',\n",
       " 'You were added\\n',\n",
       " '+977 984-7092985: class ko recordings kaile samma accessible hunxa?\\n',\n",
       " 'Manish Basnet Digital Pathshala: Waiting for this message\\n',\n",
       " '+977 986-6807363: Waiting for this message\\n',\n",
       " '+977 986-6807363: Waiting for this message\\n',\n",
       " '+977 986-6807363: Waiting for this message\\n',\n",
       " '+977 984-7092985: Laravel\\n',\n",
       " 'Manish Basnet Digital Pathshala: Waiting for this message\\n',\n",
       " '+977 986-7218297 joined from the community\\n',\n",
       " '+977 984-5672751 joined from the community\\n',\n",
       " '+977 984-6081820 joined from the community\\n',\n",
       " '+977 981-5752822 joined from the community\\n',\n",
       " '+977 986-2931608 joined from the community\\n',\n",
       " '+977 985-5019112 joined from the community\\n',\n",
       " '+977\\xa0984-6977465 changed to +44\\xa07824\\xa0845906\\n',\n",
       " '+977\\xa0980-7314413 changed to +977\\xa0976-7776999\\n',\n",
       " '+977 986-1362710 joined from the community\\n',\n",
       " '+977 984-0052249 joined from the community\\n',\n",
       " '+977 984-4634344 joined from the community\\n',\n",
       " '+977 976-5654864 joined from the community\\n',\n",
       " '+977 980-9245534 joined from the community\\n',\n",
       " '+977 981-6797402 joined from the community\\n',\n",
       " '+977 974-5923376 joined from the community\\n',\n",
       " '+977 986-9414276 joined from the community\\n',\n",
       " 'Manish Basnet Digital Pathshala: Anyone who is interested for laravel 30 days at rs 999, message me\\n',\n",
       " '+977 984-5626596: Yes\\n',\n",
       " 'Manish Basnet Digital Pathshala: <Media omitted>\\n',\n",
       " '+977 984-5626596: Kaila bata hunxa class\\n',\n",
       " 'Manish Basnet Digital Pathshala: April 1\\n',\n",
       " '+977 984-5626596: Time?\\n',\n",
       " 'Manish Basnet Digital Pathshala: 20:30 onwards\\n',\n",
       " '+977 984-5626596: Lk\\n',\n",
       " '+977 984-5626596: Ok\\n',\n",
       " '+977 986-0597070: Syllabus?\\n',\n",
       " 'Manish Basnet Digital Pathshala: <Media omitted>\\n',\n",
       " '+977 981-3487744: mentor, time period, start date, start time....?\\n',\n",
       " 'Manish Basnet Digital Pathshala: <Media omitted>\\n',\n",
       " 'Manish Basnet Digital Pathshala: <Media omitted>\\n',\n",
       " 'Manish Basnet Digital Pathshala: https://www.facebook.com/story.php?story_fbid=261104370379835&id=100094408225878&mibextid=WC7FNe\\n',\n",
       " 'Manish Basnet Digital Pathshala pinned a message\\n',\n",
       " '+977 984-0539716: How much for react js course?\\n',\n",
       " 'Manish Basnet Digital Pathshala: <Media omitted>\\n',\n",
       " '+977 984-0539716: Kaile samma pay garne ho ?\\n',\n",
       " '+977 984-0539716: Ani class kahile bata ?\\n',\n",
       " 'Manish Basnet Digital Pathshala: <Media omitted>\\n',\n",
       " '+977 984-0539716: Qr pathaunu\\n',\n",
       " 'Manish Basnet Digital Pathshala: <Media omitted>\\n',\n",
       " 'Manish Basnet Digital Pathshala: <Media omitted>\\n',\n",
       " \"Manish Basnet Digital Pathshala: Hi there,\\nHope you're doing well! 😊\\nJust a follow-up message! Before fully trusting us, we believe it's important for you to see our past session class. This is our Day 1 class of past session covering ReactJS basics, including how websites work, HTTP status codes, and HTTP verbs.\\nDemo[React] : https://bit.ly/4a7sK1o\\nIn addition to our ReactJS course, we have an upcoming Laravel course that you might be interested in.\\nMore Details : https://bit.ly/3IA2d0K\\nDemo[Laravel] : https://bit.ly/3Vf5s5j\\nFeel free to watch it whenever you have a moment. I'm confident you'll find it insightful and perhaps it'll spark some interest in our React30 days workshop or Laravel30 days Workshop!\\nLet me know if you have any questions or if there's anything else I can assist you with.\\nBest regards,\\nManish Basnet\\nFounder at Digital Pathshala\\n\",\n",
       " '+977 974-5923376: react ko kati din pugo course start vako\\n',\n",
       " 'Manish Basnet Digital Pathshala: past class ko video ho\\n',\n",
       " 'Manish Basnet Digital Pathshala: react ko seats full huna aateko xa upcoming class from mar 27 ko\\n',\n",
       " 'Manish Basnet Digital Pathshala: interested hunuhuncha vaney dm me\\n',\n",
       " '+977 974-5923376: 27 March bata balla start huni ho sir\\n',\n",
       " '+977 974-5923376: React\\n',\n",
       " 'Manish Basnet Digital Pathshala: um\\n',\n",
       " '+977 982-4036778: Maan thiyo but mero event suru hunale na vyaune vaye\\n',\n",
       " 'Manish Basnet Digital Pathshala: ok no worries\\n',\n",
       " 'Manish Basnet Digital Pathshala: paxi recording lida ni vayo\\n',\n",
       " '+977 974-5923376: 3 seat khali xa ajhai .?\\n',\n",
       " 'Manish Basnet Digital Pathshala: um\\n',\n",
       " 'Manish Basnet Digital Pathshala: hurry up\\n',\n",
       " '+977 974-5923376: Sir React ko syllabus dinu na ek chati\\n',\n",
       " 'Manish Basnet Digital Pathshala: https://class.digitalpathshalanepal.com/syllabus/react30.pdf\\n',\n",
       " '+977 974-5923376: Project 2 ota ho .?\\n',\n",
       " 'Manish Basnet Digital Pathshala: project 3']"
      ]
     },
     "execution_count": 77,
     "metadata": {},
     "output_type": "execute_result"
    }
   ],
   "source": [
    "messages = re.split(pattern, data)[1:]\n",
    "messages"
   ]
  },
  {
   "cell_type": "code",
   "execution_count": 78,
   "metadata": {},
   "outputs": [
    {
     "data": {
      "text/plain": [
       "['16/01/2024, 10:28 - ',\n",
       " '16/01/2024, 10:28 - ',\n",
       " '03/02/2024, 19:02 - ',\n",
       " '03/02/2024, 19:25 - ',\n",
       " '03/02/2024, 20:28 - ',\n",
       " '03/02/2024, 20:28 - ',\n",
       " '03/02/2024, 20:28 - ',\n",
       " '03/02/2024, 20:34 - ',\n",
       " '04/02/2024, 12:52 - ',\n",
       " '16/02/2024, 20:32 - ',\n",
       " '16/02/2024, 20:32 - ',\n",
       " '16/02/2024, 20:32 - ',\n",
       " '16/02/2024, 20:32 - ',\n",
       " '16/02/2024, 20:32 - ',\n",
       " '16/02/2024, 20:32 - ',\n",
       " '01/03/2024, 04:43 - ',\n",
       " '01/03/2024, 15:54 - ',\n",
       " '03/03/2024, 18:37 - ',\n",
       " '03/03/2024, 18:37 - ',\n",
       " '03/03/2024, 18:37 - ',\n",
       " '03/03/2024, 18:37 - ',\n",
       " '03/03/2024, 18:37 - ',\n",
       " '03/03/2024, 18:37 - ',\n",
       " '03/03/2024, 18:37 - ',\n",
       " '03/03/2024, 18:37 - ',\n",
       " '03/03/2024, 18:31 - ',\n",
       " '03/03/2024, 18:53 - ',\n",
       " '03/03/2024, 18:54 - ',\n",
       " '03/03/2024, 19:02 - ',\n",
       " '03/03/2024, 19:03 - ',\n",
       " '03/03/2024, 19:05 - ',\n",
       " '03/03/2024, 19:09 - ',\n",
       " '03/03/2024, 19:24 - ',\n",
       " '03/03/2024, 19:24 - ',\n",
       " '05/03/2024, 07:53 - ',\n",
       " '05/03/2024, 11:01 - ',\n",
       " '05/03/2024, 12:45 - ',\n",
       " '06/03/2024, 09:14 - ',\n",
       " '06/03/2024, 09:14 - ',\n",
       " '07/03/2024, 08:59 - ',\n",
       " '07/03/2024, 08:59 - ',\n",
       " '11/03/2024, 12:41 - ',\n",
       " '11/03/2024, 12:42 - ',\n",
       " '11/03/2024, 12:48 - ',\n",
       " '11/03/2024, 12:50 - ',\n",
       " '11/03/2024, 12:50 - ',\n",
       " '11/03/2024, 12:51 - ',\n",
       " '11/03/2024, 12:53 - ',\n",
       " '11/03/2024, 12:53 - ',\n",
       " '12/03/2024, 11:26 - ',\n",
       " '12/03/2024, 16:02 - ',\n",
       " '12/03/2024, 16:03 - ',\n",
       " '12/03/2024, 16:03 - ',\n",
       " '12/03/2024, 16:03 - ',\n",
       " '12/03/2024, 16:04 - ',\n",
       " '12/03/2024, 16:04 - ',\n",
       " '12/03/2024, 16:04 - ',\n",
       " '12/03/2024, 16:04 - ',\n",
       " '12/03/2024, 16:04 - ',\n",
       " '12/03/2024, 16:05 - ',\n",
       " '12/03/2024, 16:06 - ',\n",
       " '12/03/2024, 16:06 - ',\n",
       " '12/03/2024, 16:06 - ',\n",
       " '12/03/2024, 16:13 - ',\n",
       " '12/03/2024, 16:14 - ',\n",
       " '12/03/2024, 16:15 - ',\n",
       " '12/03/2024, 16:16 - ']"
      ]
     },
     "execution_count": 78,
     "metadata": {},
     "output_type": "execute_result"
    }
   ],
   "source": [
    "dates = re.findall(pattern,data)\n",
    "dates"
   ]
  },
  {
   "cell_type": "code",
   "execution_count": 79,
   "metadata": {},
   "outputs": [
    {
     "data": {
      "text/html": [
       "<div>\n",
       "<style scoped>\n",
       "    .dataframe tbody tr th:only-of-type {\n",
       "        vertical-align: middle;\n",
       "    }\n",
       "\n",
       "    .dataframe tbody tr th {\n",
       "        vertical-align: top;\n",
       "    }\n",
       "\n",
       "    .dataframe thead th {\n",
       "        text-align: right;\n",
       "    }\n",
       "</style>\n",
       "<table border=\"1\" class=\"dataframe\">\n",
       "  <thead>\n",
       "    <tr style=\"text-align: right;\">\n",
       "      <th></th>\n",
       "      <th>user_message</th>\n",
       "      <th>message_date</th>\n",
       "    </tr>\n",
       "  </thead>\n",
       "  <tbody>\n",
       "    <tr>\n",
       "      <th>0</th>\n",
       "      <td>Manish Basnet Digital Pathshala created group ...</td>\n",
       "      <td>16/01/2024, 10:28 -</td>\n",
       "    </tr>\n",
       "    <tr>\n",
       "      <th>1</th>\n",
       "      <td>You were added\\n</td>\n",
       "      <td>16/01/2024, 10:28 -</td>\n",
       "    </tr>\n",
       "    <tr>\n",
       "      <th>2</th>\n",
       "      <td>+977 984-7092985: class ko recordings kaile sa...</td>\n",
       "      <td>03/02/2024, 19:02 -</td>\n",
       "    </tr>\n",
       "    <tr>\n",
       "      <th>3</th>\n",
       "      <td>Manish Basnet Digital Pathshala: Waiting for t...</td>\n",
       "      <td>03/02/2024, 19:25 -</td>\n",
       "    </tr>\n",
       "    <tr>\n",
       "      <th>4</th>\n",
       "      <td>+977 986-6807363: Waiting for this message\\n</td>\n",
       "      <td>03/02/2024, 20:28 -</td>\n",
       "    </tr>\n",
       "    <tr>\n",
       "      <th>...</th>\n",
       "      <td>...</td>\n",
       "      <td>...</td>\n",
       "    </tr>\n",
       "    <tr>\n",
       "      <th>62</th>\n",
       "      <td>Manish Basnet Digital Pathshala: hurry up\\n</td>\n",
       "      <td>12/03/2024, 16:06 -</td>\n",
       "    </tr>\n",
       "    <tr>\n",
       "      <th>63</th>\n",
       "      <td>+977 974-5923376: Sir React ko syllabus dinu n...</td>\n",
       "      <td>12/03/2024, 16:13 -</td>\n",
       "    </tr>\n",
       "    <tr>\n",
       "      <th>64</th>\n",
       "      <td>Manish Basnet Digital Pathshala: https://class...</td>\n",
       "      <td>12/03/2024, 16:14 -</td>\n",
       "    </tr>\n",
       "    <tr>\n",
       "      <th>65</th>\n",
       "      <td>+977 974-5923376: Project 2 ota ho .?\\n</td>\n",
       "      <td>12/03/2024, 16:15 -</td>\n",
       "    </tr>\n",
       "    <tr>\n",
       "      <th>66</th>\n",
       "      <td>Manish Basnet Digital Pathshala: project 3</td>\n",
       "      <td>12/03/2024, 16:16 -</td>\n",
       "    </tr>\n",
       "  </tbody>\n",
       "</table>\n",
       "<p>67 rows × 2 columns</p>\n",
       "</div>"
      ],
      "text/plain": [
       "                                         user_message          message_date\n",
       "0   Manish Basnet Digital Pathshala created group ...  16/01/2024, 10:28 - \n",
       "1                                    You were added\\n  16/01/2024, 10:28 - \n",
       "2   +977 984-7092985: class ko recordings kaile sa...  03/02/2024, 19:02 - \n",
       "3   Manish Basnet Digital Pathshala: Waiting for t...  03/02/2024, 19:25 - \n",
       "4        +977 986-6807363: Waiting for this message\\n  03/02/2024, 20:28 - \n",
       "..                                                ...                   ...\n",
       "62        Manish Basnet Digital Pathshala: hurry up\\n  12/03/2024, 16:06 - \n",
       "63  +977 974-5923376: Sir React ko syllabus dinu n...  12/03/2024, 16:13 - \n",
       "64  Manish Basnet Digital Pathshala: https://class...  12/03/2024, 16:14 - \n",
       "65            +977 974-5923376: Project 2 ota ho .?\\n  12/03/2024, 16:15 - \n",
       "66         Manish Basnet Digital Pathshala: project 3  12/03/2024, 16:16 - \n",
       "\n",
       "[67 rows x 2 columns]"
      ]
     },
     "execution_count": 79,
     "metadata": {},
     "output_type": "execute_result"
    }
   ],
   "source": [
    "df = pd.DataFrame({'user_message':messages, 'message_date': dates})\n",
    "df"
   ]
  },
  {
   "cell_type": "markdown",
   "metadata": {},
   "source": [
    "# Converting date to datetime"
   ]
  },
  {
   "cell_type": "code",
   "execution_count": 80,
   "metadata": {},
   "outputs": [
    {
     "data": {
      "text/html": [
       "<div>\n",
       "<style scoped>\n",
       "    .dataframe tbody tr th:only-of-type {\n",
       "        vertical-align: middle;\n",
       "    }\n",
       "\n",
       "    .dataframe tbody tr th {\n",
       "        vertical-align: top;\n",
       "    }\n",
       "\n",
       "    .dataframe thead th {\n",
       "        text-align: right;\n",
       "    }\n",
       "</style>\n",
       "<table border=\"1\" class=\"dataframe\">\n",
       "  <thead>\n",
       "    <tr style=\"text-align: right;\">\n",
       "      <th></th>\n",
       "      <th>user_message</th>\n",
       "      <th>date</th>\n",
       "    </tr>\n",
       "  </thead>\n",
       "  <tbody>\n",
       "    <tr>\n",
       "      <th>0</th>\n",
       "      <td>Manish Basnet Digital Pathshala created group ...</td>\n",
       "      <td>2024-01-16 10:28:00</td>\n",
       "    </tr>\n",
       "    <tr>\n",
       "      <th>1</th>\n",
       "      <td>You were added\\n</td>\n",
       "      <td>2024-01-16 10:28:00</td>\n",
       "    </tr>\n",
       "    <tr>\n",
       "      <th>2</th>\n",
       "      <td>+977 984-7092985: class ko recordings kaile sa...</td>\n",
       "      <td>2024-02-03 19:02:00</td>\n",
       "    </tr>\n",
       "    <tr>\n",
       "      <th>3</th>\n",
       "      <td>Manish Basnet Digital Pathshala: Waiting for t...</td>\n",
       "      <td>2024-02-03 19:25:00</td>\n",
       "    </tr>\n",
       "    <tr>\n",
       "      <th>4</th>\n",
       "      <td>+977 986-6807363: Waiting for this message\\n</td>\n",
       "      <td>2024-02-03 20:28:00</td>\n",
       "    </tr>\n",
       "    <tr>\n",
       "      <th>...</th>\n",
       "      <td>...</td>\n",
       "      <td>...</td>\n",
       "    </tr>\n",
       "    <tr>\n",
       "      <th>62</th>\n",
       "      <td>Manish Basnet Digital Pathshala: hurry up\\n</td>\n",
       "      <td>2024-03-12 16:06:00</td>\n",
       "    </tr>\n",
       "    <tr>\n",
       "      <th>63</th>\n",
       "      <td>+977 974-5923376: Sir React ko syllabus dinu n...</td>\n",
       "      <td>2024-03-12 16:13:00</td>\n",
       "    </tr>\n",
       "    <tr>\n",
       "      <th>64</th>\n",
       "      <td>Manish Basnet Digital Pathshala: https://class...</td>\n",
       "      <td>2024-03-12 16:14:00</td>\n",
       "    </tr>\n",
       "    <tr>\n",
       "      <th>65</th>\n",
       "      <td>+977 974-5923376: Project 2 ota ho .?\\n</td>\n",
       "      <td>2024-03-12 16:15:00</td>\n",
       "    </tr>\n",
       "    <tr>\n",
       "      <th>66</th>\n",
       "      <td>Manish Basnet Digital Pathshala: project 3</td>\n",
       "      <td>2024-03-12 16:16:00</td>\n",
       "    </tr>\n",
       "  </tbody>\n",
       "</table>\n",
       "<p>67 rows × 2 columns</p>\n",
       "</div>"
      ],
      "text/plain": [
       "                                         user_message                date\n",
       "0   Manish Basnet Digital Pathshala created group ... 2024-01-16 10:28:00\n",
       "1                                    You were added\\n 2024-01-16 10:28:00\n",
       "2   +977 984-7092985: class ko recordings kaile sa... 2024-02-03 19:02:00\n",
       "3   Manish Basnet Digital Pathshala: Waiting for t... 2024-02-03 19:25:00\n",
       "4        +977 986-6807363: Waiting for this message\\n 2024-02-03 20:28:00\n",
       "..                                                ...                 ...\n",
       "62        Manish Basnet Digital Pathshala: hurry up\\n 2024-03-12 16:06:00\n",
       "63  +977 974-5923376: Sir React ko syllabus dinu n... 2024-03-12 16:13:00\n",
       "64  Manish Basnet Digital Pathshala: https://class... 2024-03-12 16:14:00\n",
       "65            +977 974-5923376: Project 2 ota ho .?\\n 2024-03-12 16:15:00\n",
       "66         Manish Basnet Digital Pathshala: project 3 2024-03-12 16:16:00\n",
       "\n",
       "[67 rows x 2 columns]"
      ]
     },
     "execution_count": 80,
     "metadata": {},
     "output_type": "execute_result"
    }
   ],
   "source": [
    "df['message_date'] = pd.to_datetime(df['message_date'], format='%d/%m/%Y, %H:%M - ')\n",
    "df.rename(columns={'message_date':'date'}, inplace=True)\n",
    "df"
   ]
  },
  {
   "cell_type": "markdown",
   "metadata": {},
   "source": [
    "# Separating user and message"
   ]
  },
  {
   "cell_type": "code",
   "execution_count": 81,
   "metadata": {},
   "outputs": [
    {
     "name": "stdout",
     "output_type": "stream",
     "text": [
      "['Manish Basnet Digital Pathshala created group \"dpLaravel Free ✅\"\\n', 'You were added\\n', 'class ko recordings kaile samma accessible hunxa?\\n', 'Waiting for this message\\n', 'Waiting for this message\\n', 'Waiting for this message\\n', 'Waiting for this message\\n', 'Laravel\\n', 'Waiting for this message\\n', '+977 986-7218297 joined from the community\\n', '+977 984-5672751 joined from the community\\n', '+977 984-6081820 joined from the community\\n', '+977 981-5752822 joined from the community\\n', '+977 986-2931608 joined from the community\\n', '+977 985-5019112 joined from the community\\n', '+977\\xa0984-6977465 changed to +44\\xa07824\\xa0845906\\n', '+977\\xa0980-7314413 changed to +977\\xa0976-7776999\\n', '+977 986-1362710 joined from the community\\n', '+977 984-0052249 joined from the community\\n', '+977 984-4634344 joined from the community\\n', '+977 976-5654864 joined from the community\\n', '+977 980-9245534 joined from the community\\n', '+977 981-6797402 joined from the community\\n', '+977 974-5923376 joined from the community\\n', '+977 986-9414276 joined from the community\\n', 'Anyone who is interested for laravel 30 days at rs 999, message me\\n', 'Yes\\n', '<Media omitted>\\n', 'Kaila bata hunxa class\\n', 'April 1\\n', 'Time?\\n', '20:30 onwards\\n', 'Lk\\n', 'Ok\\n', 'Syllabus?\\n', '<Media omitted>\\n', 'mentor, time period, start date, start time....?\\n', '<Media omitted>\\n', '<Media omitted>\\n', 'https://www.facebook.com/story.php?story_fbid=261104370379835&id=100094408225878&mibextid=WC7FNe\\n', 'Manish Basnet Digital Pathshala pinned a message\\n', 'How much for react js course?\\n', '<Media omitted>\\n', 'Kaile samma pay garne ho ?\\n', 'Ani class kahile bata ?\\n', '<Media omitted>\\n', 'Qr pathaunu\\n', '<Media omitted>\\n', '<Media omitted>\\n', '', 'react ko kati din pugo course start vako\\n', 'past class ko video ho\\n', 'react ko seats full huna aateko xa upcoming class from mar 27 ko\\n', 'interested hunuhuncha vaney dm me\\n', '27 March bata balla start huni ho sir\\n', 'React\\n', 'um\\n', 'Maan thiyo but mero event suru hunale na vyaune vaye\\n', 'ok no worries\\n', 'paxi recording lida ni vayo\\n', '3 seat khali xa ajhai .?\\n', 'um\\n', 'hurry up\\n', 'Sir React ko syllabus dinu na ek chati\\n', 'https://class.digitalpathshalanepal.com/syllabus/react30.pdf\\n', 'Project 2 ota ho .?\\n', 'project 3']\n"
     ]
    },
    {
     "name": "stderr",
     "output_type": "stream",
     "text": [
      "<>:5: SyntaxWarning: invalid escape sequence '\\w'\n",
      "<>:5: SyntaxWarning: invalid escape sequence '\\w'\n",
      "C:\\Users\\Acer1\\AppData\\Local\\Temp\\ipykernel_36404\\3812341963.py:5: SyntaxWarning: invalid escape sequence '\\w'\n",
      "  entry = re.split('([\\w\\W]+?):\\s',message)\n"
     ]
    },
    {
     "data": {
      "text/html": [
       "<div>\n",
       "<style scoped>\n",
       "    .dataframe tbody tr th:only-of-type {\n",
       "        vertical-align: middle;\n",
       "    }\n",
       "\n",
       "    .dataframe tbody tr th {\n",
       "        vertical-align: top;\n",
       "    }\n",
       "\n",
       "    .dataframe thead th {\n",
       "        text-align: right;\n",
       "    }\n",
       "</style>\n",
       "<table border=\"1\" class=\"dataframe\">\n",
       "  <thead>\n",
       "    <tr style=\"text-align: right;\">\n",
       "      <th></th>\n",
       "      <th>date</th>\n",
       "      <th>user</th>\n",
       "      <th>message</th>\n",
       "    </tr>\n",
       "  </thead>\n",
       "  <tbody>\n",
       "    <tr>\n",
       "      <th>0</th>\n",
       "      <td>2024-01-16 10:28:00</td>\n",
       "      <td>group_notification</td>\n",
       "      <td>Manish Basnet Digital Pathshala created group ...</td>\n",
       "    </tr>\n",
       "    <tr>\n",
       "      <th>1</th>\n",
       "      <td>2024-01-16 10:28:00</td>\n",
       "      <td>group_notification</td>\n",
       "      <td>You were added\\n</td>\n",
       "    </tr>\n",
       "    <tr>\n",
       "      <th>2</th>\n",
       "      <td>2024-02-03 19:02:00</td>\n",
       "      <td>+977 984-7092985</td>\n",
       "      <td>class ko recordings kaile samma accessible hun...</td>\n",
       "    </tr>\n",
       "    <tr>\n",
       "      <th>3</th>\n",
       "      <td>2024-02-03 19:25:00</td>\n",
       "      <td>Manish Basnet Digital Pathshala</td>\n",
       "      <td>Waiting for this message\\n</td>\n",
       "    </tr>\n",
       "    <tr>\n",
       "      <th>4</th>\n",
       "      <td>2024-02-03 20:28:00</td>\n",
       "      <td>+977 986-6807363</td>\n",
       "      <td>Waiting for this message\\n</td>\n",
       "    </tr>\n",
       "    <tr>\n",
       "      <th>...</th>\n",
       "      <td>...</td>\n",
       "      <td>...</td>\n",
       "      <td>...</td>\n",
       "    </tr>\n",
       "    <tr>\n",
       "      <th>62</th>\n",
       "      <td>2024-03-12 16:06:00</td>\n",
       "      <td>Manish Basnet Digital Pathshala</td>\n",
       "      <td>hurry up\\n</td>\n",
       "    </tr>\n",
       "    <tr>\n",
       "      <th>63</th>\n",
       "      <td>2024-03-12 16:13:00</td>\n",
       "      <td>+977 974-5923376</td>\n",
       "      <td>Sir React ko syllabus dinu na ek chati\\n</td>\n",
       "    </tr>\n",
       "    <tr>\n",
       "      <th>64</th>\n",
       "      <td>2024-03-12 16:14:00</td>\n",
       "      <td>Manish Basnet Digital Pathshala</td>\n",
       "      <td>https://class.digitalpathshalanepal.com/syllab...</td>\n",
       "    </tr>\n",
       "    <tr>\n",
       "      <th>65</th>\n",
       "      <td>2024-03-12 16:15:00</td>\n",
       "      <td>+977 974-5923376</td>\n",
       "      <td>Project 2 ota ho .?\\n</td>\n",
       "    </tr>\n",
       "    <tr>\n",
       "      <th>66</th>\n",
       "      <td>2024-03-12 16:16:00</td>\n",
       "      <td>Manish Basnet Digital Pathshala</td>\n",
       "      <td>project 3</td>\n",
       "    </tr>\n",
       "  </tbody>\n",
       "</table>\n",
       "<p>67 rows × 3 columns</p>\n",
       "</div>"
      ],
      "text/plain": [
       "                  date                             user  \\\n",
       "0  2024-01-16 10:28:00               group_notification   \n",
       "1  2024-01-16 10:28:00               group_notification   \n",
       "2  2024-02-03 19:02:00                 +977 984-7092985   \n",
       "3  2024-02-03 19:25:00  Manish Basnet Digital Pathshala   \n",
       "4  2024-02-03 20:28:00                 +977 986-6807363   \n",
       "..                 ...                              ...   \n",
       "62 2024-03-12 16:06:00  Manish Basnet Digital Pathshala   \n",
       "63 2024-03-12 16:13:00                 +977 974-5923376   \n",
       "64 2024-03-12 16:14:00  Manish Basnet Digital Pathshala   \n",
       "65 2024-03-12 16:15:00                 +977 974-5923376   \n",
       "66 2024-03-12 16:16:00  Manish Basnet Digital Pathshala   \n",
       "\n",
       "                                              message  \n",
       "0   Manish Basnet Digital Pathshala created group ...  \n",
       "1                                    You were added\\n  \n",
       "2   class ko recordings kaile samma accessible hun...  \n",
       "3                          Waiting for this message\\n  \n",
       "4                          Waiting for this message\\n  \n",
       "..                                                ...  \n",
       "62                                         hurry up\\n  \n",
       "63           Sir React ko syllabus dinu na ek chati\\n  \n",
       "64  https://class.digitalpathshalanepal.com/syllab...  \n",
       "65                              Project 2 ota ho .?\\n  \n",
       "66                                          project 3  \n",
       "\n",
       "[67 rows x 3 columns]"
      ]
     },
     "execution_count": 81,
     "metadata": {},
     "output_type": "execute_result"
    }
   ],
   "source": [
    "users = []\n",
    "messages = []\n",
    "\n",
    "for message in df['user_message']:\n",
    "  entry = re.split('([\\w\\W]+?):\\s',message)\n",
    "  # print(entry)\n",
    "  if entry[1:]:\n",
    "    users.append(entry[1])\n",
    "    messages.append(entry[2])\n",
    "  else:\n",
    "    users.append('group_notification')\n",
    "    messages.append(entry[0])\n",
    "\n",
    "# print(len(users))\n",
    "print(messages)\n",
    "\n",
    "df['user'] = users\n",
    "df['message'] = messages\n",
    "df.drop(columns=['user_message'],inplace=True)\n",
    "df"
   ]
  },
  {
   "cell_type": "markdown",
   "metadata": {},
   "source": [
    "# Extracting year, month, day, hour, min"
   ]
  },
  {
   "cell_type": "code",
   "execution_count": 82,
   "metadata": {},
   "outputs": [
    {
     "data": {
      "text/html": [
       "<div>\n",
       "<style scoped>\n",
       "    .dataframe tbody tr th:only-of-type {\n",
       "        vertical-align: middle;\n",
       "    }\n",
       "\n",
       "    .dataframe tbody tr th {\n",
       "        vertical-align: top;\n",
       "    }\n",
       "\n",
       "    .dataframe thead th {\n",
       "        text-align: right;\n",
       "    }\n",
       "</style>\n",
       "<table border=\"1\" class=\"dataframe\">\n",
       "  <thead>\n",
       "    <tr style=\"text-align: right;\">\n",
       "      <th></th>\n",
       "      <th>date</th>\n",
       "      <th>user</th>\n",
       "      <th>message</th>\n",
       "      <th>year</th>\n",
       "      <th>month</th>\n",
       "      <th>day</th>\n",
       "      <th>hour</th>\n",
       "      <th>minute</th>\n",
       "    </tr>\n",
       "  </thead>\n",
       "  <tbody>\n",
       "    <tr>\n",
       "      <th>0</th>\n",
       "      <td>2024-01-16 10:28:00</td>\n",
       "      <td>group_notification</td>\n",
       "      <td>Manish Basnet Digital Pathshala created group ...</td>\n",
       "      <td>2024</td>\n",
       "      <td>January</td>\n",
       "      <td>16</td>\n",
       "      <td>10</td>\n",
       "      <td>28</td>\n",
       "    </tr>\n",
       "    <tr>\n",
       "      <th>1</th>\n",
       "      <td>2024-01-16 10:28:00</td>\n",
       "      <td>group_notification</td>\n",
       "      <td>You were added\\n</td>\n",
       "      <td>2024</td>\n",
       "      <td>January</td>\n",
       "      <td>16</td>\n",
       "      <td>10</td>\n",
       "      <td>28</td>\n",
       "    </tr>\n",
       "    <tr>\n",
       "      <th>2</th>\n",
       "      <td>2024-02-03 19:02:00</td>\n",
       "      <td>+977 984-7092985</td>\n",
       "      <td>class ko recordings kaile samma accessible hun...</td>\n",
       "      <td>2024</td>\n",
       "      <td>February</td>\n",
       "      <td>3</td>\n",
       "      <td>19</td>\n",
       "      <td>2</td>\n",
       "    </tr>\n",
       "    <tr>\n",
       "      <th>3</th>\n",
       "      <td>2024-02-03 19:25:00</td>\n",
       "      <td>Manish Basnet Digital Pathshala</td>\n",
       "      <td>Waiting for this message\\n</td>\n",
       "      <td>2024</td>\n",
       "      <td>February</td>\n",
       "      <td>3</td>\n",
       "      <td>19</td>\n",
       "      <td>25</td>\n",
       "    </tr>\n",
       "    <tr>\n",
       "      <th>4</th>\n",
       "      <td>2024-02-03 20:28:00</td>\n",
       "      <td>+977 986-6807363</td>\n",
       "      <td>Waiting for this message\\n</td>\n",
       "      <td>2024</td>\n",
       "      <td>February</td>\n",
       "      <td>3</td>\n",
       "      <td>20</td>\n",
       "      <td>28</td>\n",
       "    </tr>\n",
       "    <tr>\n",
       "      <th>...</th>\n",
       "      <td>...</td>\n",
       "      <td>...</td>\n",
       "      <td>...</td>\n",
       "      <td>...</td>\n",
       "      <td>...</td>\n",
       "      <td>...</td>\n",
       "      <td>...</td>\n",
       "      <td>...</td>\n",
       "    </tr>\n",
       "    <tr>\n",
       "      <th>62</th>\n",
       "      <td>2024-03-12 16:06:00</td>\n",
       "      <td>Manish Basnet Digital Pathshala</td>\n",
       "      <td>hurry up\\n</td>\n",
       "      <td>2024</td>\n",
       "      <td>March</td>\n",
       "      <td>12</td>\n",
       "      <td>16</td>\n",
       "      <td>6</td>\n",
       "    </tr>\n",
       "    <tr>\n",
       "      <th>63</th>\n",
       "      <td>2024-03-12 16:13:00</td>\n",
       "      <td>+977 974-5923376</td>\n",
       "      <td>Sir React ko syllabus dinu na ek chati\\n</td>\n",
       "      <td>2024</td>\n",
       "      <td>March</td>\n",
       "      <td>12</td>\n",
       "      <td>16</td>\n",
       "      <td>13</td>\n",
       "    </tr>\n",
       "    <tr>\n",
       "      <th>64</th>\n",
       "      <td>2024-03-12 16:14:00</td>\n",
       "      <td>Manish Basnet Digital Pathshala</td>\n",
       "      <td>https://class.digitalpathshalanepal.com/syllab...</td>\n",
       "      <td>2024</td>\n",
       "      <td>March</td>\n",
       "      <td>12</td>\n",
       "      <td>16</td>\n",
       "      <td>14</td>\n",
       "    </tr>\n",
       "    <tr>\n",
       "      <th>65</th>\n",
       "      <td>2024-03-12 16:15:00</td>\n",
       "      <td>+977 974-5923376</td>\n",
       "      <td>Project 2 ota ho .?\\n</td>\n",
       "      <td>2024</td>\n",
       "      <td>March</td>\n",
       "      <td>12</td>\n",
       "      <td>16</td>\n",
       "      <td>15</td>\n",
       "    </tr>\n",
       "    <tr>\n",
       "      <th>66</th>\n",
       "      <td>2024-03-12 16:16:00</td>\n",
       "      <td>Manish Basnet Digital Pathshala</td>\n",
       "      <td>project 3</td>\n",
       "      <td>2024</td>\n",
       "      <td>March</td>\n",
       "      <td>12</td>\n",
       "      <td>16</td>\n",
       "      <td>16</td>\n",
       "    </tr>\n",
       "  </tbody>\n",
       "</table>\n",
       "<p>67 rows × 8 columns</p>\n",
       "</div>"
      ],
      "text/plain": [
       "                  date                             user  \\\n",
       "0  2024-01-16 10:28:00               group_notification   \n",
       "1  2024-01-16 10:28:00               group_notification   \n",
       "2  2024-02-03 19:02:00                 +977 984-7092985   \n",
       "3  2024-02-03 19:25:00  Manish Basnet Digital Pathshala   \n",
       "4  2024-02-03 20:28:00                 +977 986-6807363   \n",
       "..                 ...                              ...   \n",
       "62 2024-03-12 16:06:00  Manish Basnet Digital Pathshala   \n",
       "63 2024-03-12 16:13:00                 +977 974-5923376   \n",
       "64 2024-03-12 16:14:00  Manish Basnet Digital Pathshala   \n",
       "65 2024-03-12 16:15:00                 +977 974-5923376   \n",
       "66 2024-03-12 16:16:00  Manish Basnet Digital Pathshala   \n",
       "\n",
       "                                              message  year     month  day  \\\n",
       "0   Manish Basnet Digital Pathshala created group ...  2024   January   16   \n",
       "1                                    You were added\\n  2024   January   16   \n",
       "2   class ko recordings kaile samma accessible hun...  2024  February    3   \n",
       "3                          Waiting for this message\\n  2024  February    3   \n",
       "4                          Waiting for this message\\n  2024  February    3   \n",
       "..                                                ...   ...       ...  ...   \n",
       "62                                         hurry up\\n  2024     March   12   \n",
       "63           Sir React ko syllabus dinu na ek chati\\n  2024     March   12   \n",
       "64  https://class.digitalpathshalanepal.com/syllab...  2024     March   12   \n",
       "65                              Project 2 ota ho .?\\n  2024     March   12   \n",
       "66                                          project 3  2024     March   12   \n",
       "\n",
       "    hour  minute  \n",
       "0     10      28  \n",
       "1     10      28  \n",
       "2     19       2  \n",
       "3     19      25  \n",
       "4     20      28  \n",
       "..   ...     ...  \n",
       "62    16       6  \n",
       "63    16      13  \n",
       "64    16      14  \n",
       "65    16      15  \n",
       "66    16      16  \n",
       "\n",
       "[67 rows x 8 columns]"
      ]
     },
     "execution_count": 82,
     "metadata": {},
     "output_type": "execute_result"
    }
   ],
   "source": [
    "df['year'] = df['date'].dt.year\n",
    "df['month'] = df['date'].dt.month_name()\n",
    "df['day'] = df['date'].dt.day\n",
    "df['hour'] = df['date'].dt.hour\n",
    "df['minute'] = df['date'].dt.minute\n",
    "df"
   ]
  },
  {
   "cell_type": "markdown",
   "metadata": {},
   "source": [
    "# Unique Users for Slectbox"
   ]
  },
  {
   "cell_type": "code",
   "execution_count": 83,
   "metadata": {},
   "outputs": [
    {
     "data": {
      "text/plain": [
       "['group_notification',\n",
       " '+977 984-7092985',\n",
       " 'Manish Basnet Digital Pathshala',\n",
       " '+977 986-6807363',\n",
       " '+977 984-5626596',\n",
       " '+977 986-0597070',\n",
       " '+977 981-3487744',\n",
       " '+977 984-0539716',\n",
       " '+977 974-5923376',\n",
       " '+977 982-4036778']"
      ]
     },
     "execution_count": 83,
     "metadata": {},
     "output_type": "execute_result"
    }
   ],
   "source": [
    "user_list = df['user'].unique().tolist()\n",
    "user_list"
   ]
  },
  {
   "cell_type": "code",
   "execution_count": 84,
   "metadata": {},
   "outputs": [
    {
     "data": {
      "text/plain": [
       "['overall',\n",
       " '+977 984-7092985',\n",
       " 'Manish Basnet Digital Pathshala',\n",
       " '+977 986-6807363',\n",
       " '+977 984-5626596',\n",
       " '+977 986-0597070',\n",
       " '+977 981-3487744',\n",
       " '+977 984-0539716',\n",
       " '+977 974-5923376',\n",
       " '+977 982-4036778']"
      ]
     },
     "execution_count": 84,
     "metadata": {},
     "output_type": "execute_result"
    }
   ],
   "source": [
    "user_list.remove('group_notification')\n",
    "user_list.insert(0,'overall')\n",
    "user_list"
   ]
  },
  {
   "cell_type": "markdown",
   "metadata": {},
   "source": [
    "# Number of messages"
   ]
  },
  {
   "cell_type": "markdown",
   "metadata": {},
   "source": [
    "Total messages in whole group"
   ]
  },
  {
   "cell_type": "code",
   "execution_count": 85,
   "metadata": {},
   "outputs": [
    {
     "data": {
      "text/plain": [
       "(67, 8)"
      ]
     },
     "execution_count": 85,
     "metadata": {},
     "output_type": "execute_result"
    }
   ],
   "source": [
    "df.shape"
   ]
  },
  {
   "cell_type": "markdown",
   "metadata": {},
   "source": [
    "Total Message by a single person"
   ]
  },
  {
   "cell_type": "code",
   "execution_count": 86,
   "metadata": {},
   "outputs": [
    {
     "data": {
      "text/plain": [
       "0                  group_notification\n",
       "1                  group_notification\n",
       "2                    +977 984-7092985\n",
       "3     Manish Basnet Digital Pathshala\n",
       "4                    +977 986-6807363\n",
       "                   ...               \n",
       "62    Manish Basnet Digital Pathshala\n",
       "63                   +977 974-5923376\n",
       "64    Manish Basnet Digital Pathshala\n",
       "65                   +977 974-5923376\n",
       "66    Manish Basnet Digital Pathshala\n",
       "Name: user, Length: 67, dtype: object"
      ]
     },
     "execution_count": 86,
     "metadata": {},
     "output_type": "execute_result"
    }
   ],
   "source": [
    "df['user']"
   ]
  },
  {
   "cell_type": "code",
   "execution_count": 87,
   "metadata": {},
   "outputs": [
    {
     "data": {
      "text/plain": [
       "(25, 8)"
      ]
     },
     "execution_count": 87,
     "metadata": {},
     "output_type": "execute_result"
    }
   ],
   "source": [
    "df[df['user'] == df['user'][3]].shape"
   ]
  },
  {
   "cell_type": "markdown",
   "metadata": {},
   "source": [
    "# Number of Words"
   ]
  },
  {
   "cell_type": "markdown",
   "metadata": {},
   "source": [
    "Total words in the whole group"
   ]
  },
  {
   "cell_type": "code",
   "execution_count": 88,
   "metadata": {},
   "outputs": [
    {
     "data": {
      "text/plain": [
       "'Manish Basnet Digital Pathshala created group \"dpLaravel Free ✅\"\\n You were added\\n class ko recordings kaile samma accessible hunxa?\\n Waiting for this message\\n Waiting for this message\\n Waiting for this message\\n Waiting for this message\\n Laravel\\n Waiting for this message\\n +977 986-7218297 joined from the community\\n +977 984-5672751 joined from the community\\n +977 984-6081820 joined from the community\\n +977 981-5752822 joined from the community\\n +977 986-2931608 joined from the community\\n +977 985-5019112 joined from the community\\n +977\\xa0984-6977465 changed to +44\\xa07824\\xa0845906\\n +977\\xa0980-7314413 changed to +977\\xa0976-7776999\\n +977 986-1362710 joined from the community\\n +977 984-0052249 joined from the community\\n +977 984-4634344 joined from the community\\n +977 976-5654864 joined from the community\\n +977 980-9245534 joined from the community\\n +977 981-6797402 joined from the community\\n +977 974-5923376 joined from the community\\n +977 986-9414276 joined from the community\\n Anyone who is interested for laravel 30 days at rs 999, message me\\n Yes\\n <Media omitted>\\n Kaila bata hunxa class\\n April 1\\n Time?\\n 20:30 onwards\\n Lk\\n Ok\\n Syllabus?\\n <Media omitted>\\n mentor, time period, start date, start time....?\\n <Media omitted>\\n <Media omitted>\\n https://www.facebook.com/story.php?story_fbid=261104370379835&id=100094408225878&mibextid=WC7FNe\\n Manish Basnet Digital Pathshala pinned a message\\n How much for react js course?\\n <Media omitted>\\n Kaile samma pay garne ho ?\\n Ani class kahile bata ?\\n <Media omitted>\\n Qr pathaunu\\n <Media omitted>\\n <Media omitted>\\n  react ko kati din pugo course start vako\\n past class ko video ho\\n react ko seats full huna aateko xa upcoming class from mar 27 ko\\n interested hunuhuncha vaney dm me\\n 27 March bata balla start huni ho sir\\n React\\n um\\n Maan thiyo but mero event suru hunale na vyaune vaye\\n ok no worries\\n paxi recording lida ni vayo\\n 3 seat khali xa ajhai .?\\n um\\n hurry up\\n Sir React ko syllabus dinu na ek chati\\n https://class.digitalpathshalanepal.com/syllabus/react30.pdf\\n Project 2 ota ho .?\\n project 3'"
      ]
     },
     "execution_count": 88,
     "metadata": {},
     "output_type": "execute_result"
    }
   ],
   "source": [
    "' '.join(df['message'].values.tolist())"
   ]
  },
  {
   "cell_type": "code",
   "execution_count": 89,
   "metadata": {},
   "outputs": [
    {
     "data": {
      "text/plain": [
       "297"
      ]
     },
     "execution_count": 89,
     "metadata": {},
     "output_type": "execute_result"
    }
   ],
   "source": [
    "len((\" \".join((df['message'].values.tolist()))).split())"
   ]
  },
  {
   "cell_type": "code",
   "execution_count": 91,
   "metadata": {},
   "outputs": [
    {
     "data": {
      "text/plain": [
       "297"
      ]
     },
     "execution_count": 91,
     "metadata": {},
     "output_type": "execute_result"
    }
   ],
   "source": [
    "words = []\n",
    "for msg in df['message']:\n",
    "  words.extend(msg.split())\n",
    "\n",
    "len(words)"
   ]
  },
  {
   "cell_type": "markdown",
   "metadata": {},
   "source": [
    "Total words by a single person"
   ]
  },
  {
   "cell_type": "code",
   "execution_count": 99,
   "metadata": {},
   "outputs": [
    {
     "data": {
      "text/plain": [
       "80"
      ]
     },
     "execution_count": 99,
     "metadata": {},
     "output_type": "execute_result"
    }
   ],
   "source": [
    "new_df = df[df['user'] == df['user'][3]]\n",
    "len((' '.join(new_df['message'].values.tolist())).split())"
   ]
  },
  {
   "cell_type": "markdown",
   "metadata": {},
   "source": [
    "# Total Media"
   ]
  },
  {
   "cell_type": "code",
   "execution_count": 105,
   "metadata": {},
   "outputs": [
    {
     "data": {
      "text/plain": [
       "8"
      ]
     },
     "execution_count": 105,
     "metadata": {},
     "output_type": "execute_result"
    }
   ],
   "source": [
    "df[df['message'] == '<Media omitted>\\n'].shape[0]"
   ]
  },
  {
   "cell_type": "code",
   "execution_count": 106,
   "metadata": {},
   "outputs": [
    {
     "data": {
      "text/plain": [
       "8"
      ]
     },
     "execution_count": 106,
     "metadata": {},
     "output_type": "execute_result"
    }
   ],
   "source": [
    "new_df = df[df['user'] == df['user'][3]]\n",
    "new_df[new_df['message'] == '<Media omitted>\\n'].shape[0]"
   ]
  },
  {
   "cell_type": "markdown",
   "metadata": {},
   "source": [
    "# Number of links"
   ]
  },
  {
   "cell_type": "markdown",
   "metadata": {},
   "source": [
    "URL Extract"
   ]
  },
  {
   "cell_type": "code",
   "execution_count": 107,
   "metadata": {},
   "outputs": [],
   "source": [
    "from urlextract import URLExtract"
   ]
  },
  {
   "cell_type": "code",
   "execution_count": 118,
   "metadata": {},
   "outputs": [
    {
     "ename": "TypeError",
     "evalue": "'generator' object is not subscriptable",
     "output_type": "error",
     "traceback": [
      "\u001b[1;31m---------------------------------------------------------------------------\u001b[0m",
      "\u001b[1;31mTypeError\u001b[0m                                 Traceback (most recent call last)",
      "Cell \u001b[1;32mIn[118], line 3\u001b[0m\n\u001b[0;32m      1\u001b[0m ext \u001b[38;5;241m=\u001b[39m URLExtract()\n\u001b[0;32m      2\u001b[0m \u001b[38;5;66;03m# urls = ext.find_urls(\"Text .np with daraz.np URLs. Let's have.edu.np URL janlipovsky.cz, chatgpt.com as an example.\")\u001b[39;00m\n\u001b[1;32m----> 3\u001b[0m url \u001b[38;5;241m=\u001b[39m \u001b[43mext\u001b[49m\u001b[38;5;241;43m.\u001b[39;49m\u001b[43mgen_urls\u001b[49m\u001b[43m(\u001b[49m\u001b[38;5;124;43m\"\u001b[39;49m\u001b[38;5;124;43mText .np with daraz.np URLs. Let\u001b[39;49m\u001b[38;5;124;43m'\u001b[39;49m\u001b[38;5;124;43ms have.edu.np URL janlipovsky.cz, chatgpt.com as an example.\u001b[39;49m\u001b[38;5;124;43m\"\u001b[39;49m\u001b[43m)\u001b[49m\u001b[43m[\u001b[49m\u001b[38;5;241;43m0\u001b[39;49m\u001b[43m]\u001b[49m\n\u001b[0;32m      4\u001b[0m url\n\u001b[0;32m      5\u001b[0m \u001b[38;5;66;03m# print(urls)\u001b[39;00m\n",
      "\u001b[1;31mTypeError\u001b[0m: 'generator' object is not subscriptable"
     ]
    }
   ],
   "source": [
    "ext = URLExtract()\n",
    "urls = ext.find_urls(\"Text .np with daraz.np URLs. Let's have.edu.np URL janlipovsky.cz, chatgpt.com as an example.\")\n",
    "print(urls)"
   ]
  },
  {
   "cell_type": "markdown",
   "metadata": {},
   "source": [
    "Total links in whole message"
   ]
  },
  {
   "cell_type": "code",
   "execution_count": 123,
   "metadata": {},
   "outputs": [
    {
     "data": {
      "text/plain": [
       "['https://www.facebook.com/story.php?story_fbid=261104370379835&id=100094408225878&mibextid=WC7FNe',\n",
       " 'https://class.digitalpathshalanepal.com/syllabus/react30.pdf']"
      ]
     },
     "execution_count": 123,
     "metadata": {},
     "output_type": "execute_result"
    }
   ],
   "source": [
    "ext.find_urls(' '.join(df['message'].values.tolist()))"
   ]
  },
  {
   "cell_type": "code",
   "execution_count": null,
   "metadata": {},
   "outputs": [],
   "source": []
  }
 ],
 "metadata": {
  "kernelspec": {
   "display_name": "myenv",
   "language": "python",
   "name": "python3"
  },
  "language_info": {
   "codemirror_mode": {
    "name": "ipython",
    "version": 3
   },
   "file_extension": ".py",
   "mimetype": "text/x-python",
   "name": "python",
   "nbconvert_exporter": "python",
   "pygments_lexer": "ipython3",
   "version": "3.12.2"
  }
 },
 "nbformat": 4,
 "nbformat_minor": 2
}
